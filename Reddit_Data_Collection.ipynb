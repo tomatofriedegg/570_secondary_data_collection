{
 "cells": [
  {
   "cell_type": "code",
   "execution_count": 2,
   "id": "6d87314d-dd11-4922-ada4-01541bfc8c67",
   "metadata": {
    "tags": []
   },
   "outputs": [],
   "source": [
    "import praw\n",
    "import pandas as pd"
   ]
  },
  {
   "cell_type": "code",
   "execution_count": 47,
   "id": "dbe022bf-bc5e-4ce6-8768-3c5c0f393c38",
   "metadata": {
    "tags": []
   },
   "outputs": [],
   "source": [
    "import requests\n",
    "from urllib.parse import urlencode"
   ]
  },
  {
   "cell_type": "code",
   "execution_count": 87,
   "id": "6aa3aaf0-aef3-449d-b48e-6b91838fb545",
   "metadata": {
    "tags": []
   },
   "outputs": [],
   "source": [
    "# Your app's client ID and client secret\n",
    "client_id='Sp9B-rS_5efisaH2hYfOKg'\n",
    "client_secret='3zBw-t0_2uZJg7oOFyC-iBCN3RB9uQ'\n",
    "REDIRECT_URI = 'https://www.google.com/search?q=uw+msim&rlz=1C5CHFA_enUS999US1000&oq=uw+msim++&gs_lcrp=EgZjaHJvbWUyBggAEEUYOTIGCAEQRRg7MgYIAhBFGDsyBggDEEUYPDIGCAQQRRg8MgYIBRBFGDzSAQg0MzQ2ajBqNKgCALACAQ&sourceid=chrome&ie=UTF-8'"
   ]
  },
  {
   "cell_type": "code",
   "execution_count": 89,
   "id": "81982b27-d941-4533-acd4-59f67fc48058",
   "metadata": {
    "tags": []
   },
   "outputs": [
    {
     "name": "stdout",
     "output_type": "stream",
     "text": [
      "Please visit the following URL to authorize the application:\n",
      "https://www.reddit.com/api/v1/authorize?client_id=Sp9B-rS_5efisaH2hYfOKg&response_type=code&state=random_string&redirect_uri=https%3A%2F%2Fwww.google.com%2Fsearch%3Fq%3Duw%2Bmsim%26rlz%3D1C5CHFA_enUS999US1000%26oq%3Duw%2Bmsim%2B%2B%26gs_lcrp%3DEgZjaHJvbWUyBggAEEUYOTIGCAEQRRg7MgYIAhBFGDsyBggDEEUYPDIGCAQQRRg8MgYIBRBFGDzSAQg0MzQ2ajBqNKgCALACAQ%26sourceid%3Dchrome%26ie%3DUTF-8&duration=temporary&scope=identity+read\n"
     ]
    }
   ],
   "source": [
    "# Step 1: Construct the authorization URL\n",
    "AUTHORIZE_URL = 'https://www.reddit.com/api/v1/authorize'\n",
    "params = {\n",
    "    'client_id': client_id,\n",
    "    'response_type': 'code',\n",
    "    'state': 'random_string',  # You should generate a unique, possibly random, string for each authorization request\n",
    "    'redirect_uri': REDIRECT_URI,\n",
    "    'duration': 'temporary',   # or 'permanent' if you need a refresh token\n",
    "    'scope': 'identity read'  # Specify the scopes your app requires\n",
    "}\n",
    "authorization_url = f'{AUTHORIZE_URL}?{urlencode(params)}'\n",
    "\n",
    "# Step 2: Redirect user to the authorization URL\n",
    "print('Please visit the following URL to authorize the application:')\n",
    "print(authorization_url)"
   ]
  },
  {
   "cell_type": "code",
   "execution_count": 91,
   "id": "8d1d1099-5212-4fc3-be77-2ccc1ee9d284",
   "metadata": {
    "tags": []
   },
   "outputs": [
    {
     "name": "stdout",
     "output_type": "stream",
     "text": [
      "Failed to retrieve access token.\n"
     ]
    }
   ],
   "source": [
    "# Step 3: Receive authorization code (this would typically be handled by your web server's callback route)\n",
    "\n",
    "# Step 4: Exchange authorization code for access token\n",
    "token_url = 'https://www.reddit.com/api/v1/access_token'\n",
    "token_data = {\n",
    "    'grant_type': 'authorization_code',\n",
    "    'code': 'authorization_code_received_from_callback',\n",
    "    'redirect_uri': REDIRECT_URI\n",
    "}\n",
    "auth = requests.auth.HTTPBasicAuth(client_id, client_secret)                \n",
    "token_response = requests.post(token_url, data=token_data, auth=auth)\n",
    "\n",
    "# Step 5: Extract access token from response\n",
    "if token_response.status_code == 200:\n",
    "    access_token = token_response.json()['access_token']\n",
    "    print(f'Access token: {access_token}')\n",
    "else:\n",
    "    print('Failed to retrieve access token.')\n"
   ]
  },
  {
   "cell_type": "code",
   "execution_count": 75,
   "id": "cd1bf8c4-8117-488a-9109-ddd09c1875d4",
   "metadata": {
    "tags": []
   },
   "outputs": [],
   "source": [
    "# Construct the Reddit API object\n",
    "reddit = praw.Reddit(\n",
    "    client_id=client_id,\n",
    "    client_secret=client_secret,\n",
    "    redirect_uri=REDIRECT_URI,\n",
    "    user_agent=\"MyRedditApp/1.0 (by /tomato) Python/3.9.5\",\n",
    "    # Assuming you already have an access token, set it here\n",
    "    access_token='your_access_token'\n",
    ")\n"
   ]
  },
  {
   "cell_type": "code",
   "execution_count": 77,
   "id": "eb0f003a-727c-4626-8485-d9588db662fe",
   "metadata": {},
   "outputs": [],
   "source": [
    "def scrape_submissions_with_query(query, num_submissions):\n",
    "    reddit = reddit_api\n",
    "    submission_ids = []\n",
    "    submissions = reddit.subreddit('all').search(query, limit=num_submissions)\n",
    "\n",
    "    for submission in submissions:\n",
    "        submission_ids.append(submission.id)\n",
    "    \n",
    "    return submission_ids"
   ]
  },
  {
   "cell_type": "code",
   "execution_count": 79,
   "id": "8aa86bf3-0ca8-49cc-86b7-a6025484c036",
   "metadata": {},
   "outputs": [],
   "source": [
    "def capture_submission_details(submission_ids):\n",
    "    reddit = reddit_api\n",
    "    submission_details = []\n",
    "    \n",
    "    try:\n",
    "        for submission_id in submission_ids:\n",
    "            submission = reddit.submission(id=submission_id)\n",
    "            submission_info = {\n",
    "                'Submission id': submission.id,\n",
    "                'Submission title': submission.title,\n",
    "                'Submission content': submission.selftext,\n",
    "                'Submission author': submission.author.name if submission.author else '[deleted]',\n",
    "                'Submission created_date': submission.created_utc,\n",
    "                'Submission upvotes': submission.score,\n",
    "                'Submission url': submission.url\n",
    "            }\n",
    "            submission_details.append(submission_info)\n",
    "    except Exception as e:\n",
    "        print(f\"Error occurred while scraping submissions for query '{query}': {e}\")\n",
    "\n",
    "    return submission_details"
   ]
  },
  {
   "cell_type": "code",
   "execution_count": 81,
   "id": "7829d658-38f2-45a4-926f-7138796aad60",
   "metadata": {},
   "outputs": [],
   "source": [
    "def scrape_comments_for_submission(submission_ids):\n",
    "    reddit = reddit_api\n",
    "    all_comments = []\n",
    "\n",
    "    for submission_id in submission_ids:\n",
    "        try:\n",
    "            submission = reddit.submission(id=submission_id)\n",
    "            submission.comments.replace_more(limit=None)\n",
    "            comments = submission.comments.list()\n",
    "\n",
    "            for comment in comments:\n",
    "                comment_info = {\n",
    "                    'submission_id': submission_id,\n",
    "                    'comment_id': comment.id,\n",
    "                    'author': comment.author.name if comment.author else '[deleted]',\n",
    "                    'created_date': comment.created_utc,\n",
    "                    'body': comment.body,\n",
    "                    'upvotes': comment.score\n",
    "                }\n",
    "                all_comments.append(comment_info)\n",
    "        except Exception as e:\n",
    "            print(f\"Error occurred while scraping comments for submission {submission_id}: {e}\")\n",
    "            continue  # Skip this submission and move to the next one\n",
    "\n",
    "    return all_comments"
   ]
  },
  {
   "cell_type": "code",
   "execution_count": 83,
   "id": "d622b2dc-cdeb-4025-8170-905ded842cfa",
   "metadata": {
    "tags": []
   },
   "outputs": [],
   "source": [
    "def scrape_reddit_with_query(keyword_string, num_posts):\n",
    "    # Step 1: Scrape submissions with query\n",
    "    submission_ids = scrape_submissions_with_query(keyword_string, num_posts)\n",
    "    \n",
    "    # Step 2: Capture submission details\n",
    "    submission_details = capture_submission_details(submission_ids)\n",
    "    \n",
    "    # Step 3: Scrape comments for submission\n",
    "    all_comments = scrape_comments_for_submission(submission_ids)\n",
    "    \n",
    "    return submission_details, all_comments"
   ]
  },
  {
   "cell_type": "code",
   "execution_count": 85,
   "id": "cb0d367a-334b-46fd-bf5f-d9b652d60e78",
   "metadata": {
    "tags": []
   },
   "outputs": [
    {
     "ename": "ResponseException",
     "evalue": "received 401 HTTP response",
     "output_type": "error",
     "traceback": [
      "\u001b[0;31m---------------------------------------------------------------------------\u001b[0m",
      "\u001b[0;31mResponseException\u001b[0m                         Traceback (most recent call last)",
      "Cell \u001b[0;32mIn[85], line 8\u001b[0m\n\u001b[1;32m      2\u001b[0m gpt_study_how_query \u001b[38;5;241m=\u001b[39m (\u001b[38;5;124m'\u001b[39m\u001b[38;5;124mgpt study techniques OR \u001b[39m\u001b[38;5;124m'\u001b[39m \u001b[38;5;241m+\u001b[39m\n\u001b[1;32m      3\u001b[0m                         \u001b[38;5;124m'\u001b[39m\u001b[38;5;124mgpt study methods OR \u001b[39m\u001b[38;5;124m'\u001b[39m \u001b[38;5;241m+\u001b[39m\n\u001b[1;32m      4\u001b[0m                         \u001b[38;5;124m'\u001b[39m\u001b[38;5;124mgpt study applications OR \u001b[39m\u001b[38;5;124m'\u001b[39m \u001b[38;5;241m+\u001b[39m\n\u001b[1;32m      5\u001b[0m                         \u001b[38;5;124m'\u001b[39m\u001b[38;5;124mstudent gpt utilization OR \u001b[39m\u001b[38;5;124m'\u001b[39m)\n\u001b[1;32m      7\u001b[0m num_posts \u001b[38;5;241m=\u001b[39m \u001b[38;5;241m1\u001b[39m\n\u001b[0;32m----> 8\u001b[0m submission_details_1, all_comments_1 \u001b[38;5;241m=\u001b[39m scrape_reddit_with_query(gpt_study_how_query, num_posts)\n",
      "Cell \u001b[0;32mIn[83], line 3\u001b[0m, in \u001b[0;36mscrape_reddit_with_query\u001b[0;34m(keyword_string, num_posts)\u001b[0m\n\u001b[1;32m      1\u001b[0m \u001b[38;5;28;01mdef\u001b[39;00m \u001b[38;5;21mscrape_reddit_with_query\u001b[39m(keyword_string, num_posts):\n\u001b[1;32m      2\u001b[0m     \u001b[38;5;66;03m# Step 1: Scrape submissions with query\u001b[39;00m\n\u001b[0;32m----> 3\u001b[0m     submission_ids \u001b[38;5;241m=\u001b[39m scrape_submissions_with_query(keyword_string, num_posts)\n\u001b[1;32m      5\u001b[0m     \u001b[38;5;66;03m# Step 2: Capture submission details\u001b[39;00m\n\u001b[1;32m      6\u001b[0m     submission_details \u001b[38;5;241m=\u001b[39m capture_submission_details(submission_ids)\n",
      "Cell \u001b[0;32mIn[77], line 6\u001b[0m, in \u001b[0;36mscrape_submissions_with_query\u001b[0;34m(query, num_submissions)\u001b[0m\n\u001b[1;32m      3\u001b[0m submission_ids \u001b[38;5;241m=\u001b[39m []\n\u001b[1;32m      4\u001b[0m submissions \u001b[38;5;241m=\u001b[39m reddit\u001b[38;5;241m.\u001b[39msubreddit(\u001b[38;5;124m'\u001b[39m\u001b[38;5;124mall\u001b[39m\u001b[38;5;124m'\u001b[39m)\u001b[38;5;241m.\u001b[39msearch(query, limit\u001b[38;5;241m=\u001b[39mnum_submissions)\n\u001b[0;32m----> 6\u001b[0m \u001b[38;5;28;01mfor\u001b[39;00m submission \u001b[38;5;129;01min\u001b[39;00m submissions:\n\u001b[1;32m      7\u001b[0m     submission_ids\u001b[38;5;241m.\u001b[39mappend(submission\u001b[38;5;241m.\u001b[39mid)\n\u001b[1;32m      9\u001b[0m \u001b[38;5;28;01mreturn\u001b[39;00m submission_ids\n",
      "File \u001b[0;32m~/anaconda3/lib/python3.11/site-packages/praw/models/listing/generator.py:63\u001b[0m, in \u001b[0;36mListingGenerator.__next__\u001b[0;34m(self)\u001b[0m\n\u001b[1;32m     60\u001b[0m     \u001b[38;5;28;01mraise\u001b[39;00m \u001b[38;5;167;01mStopIteration\u001b[39;00m()\n\u001b[1;32m     62\u001b[0m \u001b[38;5;28;01mif\u001b[39;00m \u001b[38;5;28mself\u001b[39m\u001b[38;5;241m.\u001b[39m_listing \u001b[38;5;129;01mis\u001b[39;00m \u001b[38;5;28;01mNone\u001b[39;00m \u001b[38;5;129;01mor\u001b[39;00m \u001b[38;5;28mself\u001b[39m\u001b[38;5;241m.\u001b[39m_list_index \u001b[38;5;241m>\u001b[39m\u001b[38;5;241m=\u001b[39m \u001b[38;5;28mlen\u001b[39m(\u001b[38;5;28mself\u001b[39m\u001b[38;5;241m.\u001b[39m_listing):\n\u001b[0;32m---> 63\u001b[0m     \u001b[38;5;28mself\u001b[39m\u001b[38;5;241m.\u001b[39m_next_batch()\n\u001b[1;32m     65\u001b[0m \u001b[38;5;28mself\u001b[39m\u001b[38;5;241m.\u001b[39m_list_index \u001b[38;5;241m+\u001b[39m\u001b[38;5;241m=\u001b[39m \u001b[38;5;241m1\u001b[39m\n\u001b[1;32m     66\u001b[0m \u001b[38;5;28mself\u001b[39m\u001b[38;5;241m.\u001b[39myielded \u001b[38;5;241m+\u001b[39m\u001b[38;5;241m=\u001b[39m \u001b[38;5;241m1\u001b[39m\n",
      "File \u001b[0;32m~/anaconda3/lib/python3.11/site-packages/praw/models/listing/generator.py:89\u001b[0m, in \u001b[0;36mListingGenerator._next_batch\u001b[0;34m(self)\u001b[0m\n\u001b[1;32m     86\u001b[0m \u001b[38;5;28;01mif\u001b[39;00m \u001b[38;5;28mself\u001b[39m\u001b[38;5;241m.\u001b[39m_exhausted:\n\u001b[1;32m     87\u001b[0m     \u001b[38;5;28;01mraise\u001b[39;00m \u001b[38;5;167;01mStopIteration\u001b[39;00m()\n\u001b[0;32m---> 89\u001b[0m \u001b[38;5;28mself\u001b[39m\u001b[38;5;241m.\u001b[39m_listing \u001b[38;5;241m=\u001b[39m \u001b[38;5;28mself\u001b[39m\u001b[38;5;241m.\u001b[39m_reddit\u001b[38;5;241m.\u001b[39mget(\u001b[38;5;28mself\u001b[39m\u001b[38;5;241m.\u001b[39murl, params\u001b[38;5;241m=\u001b[39m\u001b[38;5;28mself\u001b[39m\u001b[38;5;241m.\u001b[39mparams)\n\u001b[1;32m     90\u001b[0m \u001b[38;5;28mself\u001b[39m\u001b[38;5;241m.\u001b[39m_listing \u001b[38;5;241m=\u001b[39m \u001b[38;5;28mself\u001b[39m\u001b[38;5;241m.\u001b[39m_extract_sublist(\u001b[38;5;28mself\u001b[39m\u001b[38;5;241m.\u001b[39m_listing)\n\u001b[1;32m     91\u001b[0m \u001b[38;5;28mself\u001b[39m\u001b[38;5;241m.\u001b[39m_list_index \u001b[38;5;241m=\u001b[39m \u001b[38;5;241m0\u001b[39m\n",
      "File \u001b[0;32m~/anaconda3/lib/python3.11/site-packages/praw/util/deprecate_args.py:43\u001b[0m, in \u001b[0;36m_deprecate_args.<locals>.wrapper.<locals>.wrapped\u001b[0;34m(*args, **kwargs)\u001b[0m\n\u001b[1;32m     36\u001b[0m     arg_string \u001b[38;5;241m=\u001b[39m _generate_arg_string(_old_args[: \u001b[38;5;28mlen\u001b[39m(args)])\n\u001b[1;32m     37\u001b[0m     warn(\n\u001b[1;32m     38\u001b[0m         \u001b[38;5;124mf\u001b[39m\u001b[38;5;124m\"\u001b[39m\u001b[38;5;124mPositional arguments for \u001b[39m\u001b[38;5;132;01m{\u001b[39;00mfunc\u001b[38;5;241m.\u001b[39m\u001b[38;5;18m__qualname__\u001b[39m\u001b[38;5;132;01m!r}\u001b[39;00m\u001b[38;5;124m will no longer be\u001b[39m\u001b[38;5;124m\"\u001b[39m\n\u001b[1;32m     39\u001b[0m         \u001b[38;5;124mf\u001b[39m\u001b[38;5;124m\"\u001b[39m\u001b[38;5;124m supported in PRAW 8.\u001b[39m\u001b[38;5;130;01m\\n\u001b[39;00m\u001b[38;5;124mCall this function with \u001b[39m\u001b[38;5;132;01m{\u001b[39;00marg_string\u001b[38;5;132;01m}\u001b[39;00m\u001b[38;5;124m.\u001b[39m\u001b[38;5;124m\"\u001b[39m,\n\u001b[1;32m     40\u001b[0m         \u001b[38;5;167;01mDeprecationWarning\u001b[39;00m,\n\u001b[1;32m     41\u001b[0m         stacklevel\u001b[38;5;241m=\u001b[39m\u001b[38;5;241m2\u001b[39m,\n\u001b[1;32m     42\u001b[0m     )\n\u001b[0;32m---> 43\u001b[0m \u001b[38;5;28;01mreturn\u001b[39;00m func(\u001b[38;5;241m*\u001b[39m\u001b[38;5;241m*\u001b[39m\u001b[38;5;28mdict\u001b[39m(\u001b[38;5;28mzip\u001b[39m(_old_args, args)), \u001b[38;5;241m*\u001b[39m\u001b[38;5;241m*\u001b[39mkwargs)\n",
      "File \u001b[0;32m~/anaconda3/lib/python3.11/site-packages/praw/reddit.py:712\u001b[0m, in \u001b[0;36mReddit.get\u001b[0;34m(self, path, params)\u001b[0m\n\u001b[1;32m    699\u001b[0m \u001b[38;5;129m@_deprecate_args\u001b[39m(\u001b[38;5;124m\"\u001b[39m\u001b[38;5;124mpath\u001b[39m\u001b[38;5;124m\"\u001b[39m, \u001b[38;5;124m\"\u001b[39m\u001b[38;5;124mparams\u001b[39m\u001b[38;5;124m\"\u001b[39m)\n\u001b[1;32m    700\u001b[0m \u001b[38;5;28;01mdef\u001b[39;00m \u001b[38;5;21mget\u001b[39m(\n\u001b[1;32m    701\u001b[0m     \u001b[38;5;28mself\u001b[39m,\n\u001b[0;32m   (...)\u001b[0m\n\u001b[1;32m    704\u001b[0m     params: Optional[Union[\u001b[38;5;28mstr\u001b[39m, Dict[\u001b[38;5;28mstr\u001b[39m, Union[\u001b[38;5;28mstr\u001b[39m, \u001b[38;5;28mint\u001b[39m]]]] \u001b[38;5;241m=\u001b[39m \u001b[38;5;28;01mNone\u001b[39;00m,\n\u001b[1;32m    705\u001b[0m ):\n\u001b[1;32m    706\u001b[0m \u001b[38;5;250m    \u001b[39m\u001b[38;5;124;03m\"\"\"Return parsed objects returned from a GET request to ``path``.\u001b[39;00m\n\u001b[1;32m    707\u001b[0m \n\u001b[1;32m    708\u001b[0m \u001b[38;5;124;03m    :param path: The path to fetch.\u001b[39;00m\n\u001b[1;32m    709\u001b[0m \u001b[38;5;124;03m    :param params: The query parameters to add to the request (default: ``None``).\u001b[39;00m\n\u001b[1;32m    710\u001b[0m \n\u001b[1;32m    711\u001b[0m \u001b[38;5;124;03m    \"\"\"\u001b[39;00m\n\u001b[0;32m--> 712\u001b[0m     \u001b[38;5;28;01mreturn\u001b[39;00m \u001b[38;5;28mself\u001b[39m\u001b[38;5;241m.\u001b[39m_objectify_request(method\u001b[38;5;241m=\u001b[39m\u001b[38;5;124m\"\u001b[39m\u001b[38;5;124mGET\u001b[39m\u001b[38;5;124m\"\u001b[39m, params\u001b[38;5;241m=\u001b[39mparams, path\u001b[38;5;241m=\u001b[39mpath)\n",
      "File \u001b[0;32m~/anaconda3/lib/python3.11/site-packages/praw/reddit.py:517\u001b[0m, in \u001b[0;36mReddit._objectify_request\u001b[0;34m(self, data, files, json, method, params, path)\u001b[0m\n\u001b[1;32m    491\u001b[0m \u001b[38;5;28;01mdef\u001b[39;00m \u001b[38;5;21m_objectify_request\u001b[39m(\n\u001b[1;32m    492\u001b[0m     \u001b[38;5;28mself\u001b[39m,\n\u001b[1;32m    493\u001b[0m     \u001b[38;5;241m*\u001b[39m,\n\u001b[0;32m   (...)\u001b[0m\n\u001b[1;32m    499\u001b[0m     path: \u001b[38;5;28mstr\u001b[39m \u001b[38;5;241m=\u001b[39m \u001b[38;5;124m\"\u001b[39m\u001b[38;5;124m\"\u001b[39m,\n\u001b[1;32m    500\u001b[0m ) \u001b[38;5;241m-\u001b[39m\u001b[38;5;241m>\u001b[39m Any:\n\u001b[1;32m    501\u001b[0m \u001b[38;5;250m    \u001b[39m\u001b[38;5;124;03m\"\"\"Run a request through the ``Objector``.\u001b[39;00m\n\u001b[1;32m    502\u001b[0m \n\u001b[1;32m    503\u001b[0m \u001b[38;5;124;03m    :param data: Dictionary, bytes, or file-like object to send in the body of the\u001b[39;00m\n\u001b[0;32m   (...)\u001b[0m\n\u001b[1;32m    514\u001b[0m \n\u001b[1;32m    515\u001b[0m \u001b[38;5;124;03m    \"\"\"\u001b[39;00m\n\u001b[1;32m    516\u001b[0m     \u001b[38;5;28;01mreturn\u001b[39;00m \u001b[38;5;28mself\u001b[39m\u001b[38;5;241m.\u001b[39m_objector\u001b[38;5;241m.\u001b[39mobjectify(\n\u001b[0;32m--> 517\u001b[0m         \u001b[38;5;28mself\u001b[39m\u001b[38;5;241m.\u001b[39mrequest(\n\u001b[1;32m    518\u001b[0m             data\u001b[38;5;241m=\u001b[39mdata,\n\u001b[1;32m    519\u001b[0m             files\u001b[38;5;241m=\u001b[39mfiles,\n\u001b[1;32m    520\u001b[0m             json\u001b[38;5;241m=\u001b[39mjson,\n\u001b[1;32m    521\u001b[0m             method\u001b[38;5;241m=\u001b[39mmethod,\n\u001b[1;32m    522\u001b[0m             params\u001b[38;5;241m=\u001b[39mparams,\n\u001b[1;32m    523\u001b[0m             path\u001b[38;5;241m=\u001b[39mpath,\n\u001b[1;32m    524\u001b[0m         )\n\u001b[1;32m    525\u001b[0m     )\n",
      "File \u001b[0;32m~/anaconda3/lib/python3.11/site-packages/praw/util/deprecate_args.py:43\u001b[0m, in \u001b[0;36m_deprecate_args.<locals>.wrapper.<locals>.wrapped\u001b[0;34m(*args, **kwargs)\u001b[0m\n\u001b[1;32m     36\u001b[0m     arg_string \u001b[38;5;241m=\u001b[39m _generate_arg_string(_old_args[: \u001b[38;5;28mlen\u001b[39m(args)])\n\u001b[1;32m     37\u001b[0m     warn(\n\u001b[1;32m     38\u001b[0m         \u001b[38;5;124mf\u001b[39m\u001b[38;5;124m\"\u001b[39m\u001b[38;5;124mPositional arguments for \u001b[39m\u001b[38;5;132;01m{\u001b[39;00mfunc\u001b[38;5;241m.\u001b[39m\u001b[38;5;18m__qualname__\u001b[39m\u001b[38;5;132;01m!r}\u001b[39;00m\u001b[38;5;124m will no longer be\u001b[39m\u001b[38;5;124m\"\u001b[39m\n\u001b[1;32m     39\u001b[0m         \u001b[38;5;124mf\u001b[39m\u001b[38;5;124m\"\u001b[39m\u001b[38;5;124m supported in PRAW 8.\u001b[39m\u001b[38;5;130;01m\\n\u001b[39;00m\u001b[38;5;124mCall this function with \u001b[39m\u001b[38;5;132;01m{\u001b[39;00marg_string\u001b[38;5;132;01m}\u001b[39;00m\u001b[38;5;124m.\u001b[39m\u001b[38;5;124m\"\u001b[39m,\n\u001b[1;32m     40\u001b[0m         \u001b[38;5;167;01mDeprecationWarning\u001b[39;00m,\n\u001b[1;32m     41\u001b[0m         stacklevel\u001b[38;5;241m=\u001b[39m\u001b[38;5;241m2\u001b[39m,\n\u001b[1;32m     42\u001b[0m     )\n\u001b[0;32m---> 43\u001b[0m \u001b[38;5;28;01mreturn\u001b[39;00m func(\u001b[38;5;241m*\u001b[39m\u001b[38;5;241m*\u001b[39m\u001b[38;5;28mdict\u001b[39m(\u001b[38;5;28mzip\u001b[39m(_old_args, args)), \u001b[38;5;241m*\u001b[39m\u001b[38;5;241m*\u001b[39mkwargs)\n",
      "File \u001b[0;32m~/anaconda3/lib/python3.11/site-packages/praw/reddit.py:941\u001b[0m, in \u001b[0;36mReddit.request\u001b[0;34m(self, data, files, json, method, params, path)\u001b[0m\n\u001b[1;32m    939\u001b[0m     \u001b[38;5;28;01mraise\u001b[39;00m ClientException(\u001b[38;5;124m\"\u001b[39m\u001b[38;5;124mAt most one of \u001b[39m\u001b[38;5;124m'\u001b[39m\u001b[38;5;124mdata\u001b[39m\u001b[38;5;124m'\u001b[39m\u001b[38;5;124m or \u001b[39m\u001b[38;5;124m'\u001b[39m\u001b[38;5;124mjson\u001b[39m\u001b[38;5;124m'\u001b[39m\u001b[38;5;124m is supported.\u001b[39m\u001b[38;5;124m\"\u001b[39m)\n\u001b[1;32m    940\u001b[0m \u001b[38;5;28;01mtry\u001b[39;00m:\n\u001b[0;32m--> 941\u001b[0m     \u001b[38;5;28;01mreturn\u001b[39;00m \u001b[38;5;28mself\u001b[39m\u001b[38;5;241m.\u001b[39m_core\u001b[38;5;241m.\u001b[39mrequest(\n\u001b[1;32m    942\u001b[0m         data\u001b[38;5;241m=\u001b[39mdata,\n\u001b[1;32m    943\u001b[0m         files\u001b[38;5;241m=\u001b[39mfiles,\n\u001b[1;32m    944\u001b[0m         json\u001b[38;5;241m=\u001b[39mjson,\n\u001b[1;32m    945\u001b[0m         method\u001b[38;5;241m=\u001b[39mmethod,\n\u001b[1;32m    946\u001b[0m         params\u001b[38;5;241m=\u001b[39mparams,\n\u001b[1;32m    947\u001b[0m         path\u001b[38;5;241m=\u001b[39mpath,\n\u001b[1;32m    948\u001b[0m     )\n\u001b[1;32m    949\u001b[0m \u001b[38;5;28;01mexcept\u001b[39;00m BadRequest \u001b[38;5;28;01mas\u001b[39;00m exception:\n\u001b[1;32m    950\u001b[0m     \u001b[38;5;28;01mtry\u001b[39;00m:\n",
      "File \u001b[0;32m~/anaconda3/lib/python3.11/site-packages/prawcore/sessions.py:328\u001b[0m, in \u001b[0;36mSession.request\u001b[0;34m(self, method, path, data, files, json, params, timeout)\u001b[0m\n\u001b[1;32m    326\u001b[0m     json[\u001b[38;5;124m\"\u001b[39m\u001b[38;5;124mapi_type\u001b[39m\u001b[38;5;124m\"\u001b[39m] \u001b[38;5;241m=\u001b[39m \u001b[38;5;124m\"\u001b[39m\u001b[38;5;124mjson\u001b[39m\u001b[38;5;124m\"\u001b[39m\n\u001b[1;32m    327\u001b[0m url \u001b[38;5;241m=\u001b[39m urljoin(\u001b[38;5;28mself\u001b[39m\u001b[38;5;241m.\u001b[39m_requestor\u001b[38;5;241m.\u001b[39moauth_url, path)\n\u001b[0;32m--> 328\u001b[0m \u001b[38;5;28;01mreturn\u001b[39;00m \u001b[38;5;28mself\u001b[39m\u001b[38;5;241m.\u001b[39m_request_with_retries(\n\u001b[1;32m    329\u001b[0m     data\u001b[38;5;241m=\u001b[39mdata,\n\u001b[1;32m    330\u001b[0m     files\u001b[38;5;241m=\u001b[39mfiles,\n\u001b[1;32m    331\u001b[0m     json\u001b[38;5;241m=\u001b[39mjson,\n\u001b[1;32m    332\u001b[0m     method\u001b[38;5;241m=\u001b[39mmethod,\n\u001b[1;32m    333\u001b[0m     params\u001b[38;5;241m=\u001b[39mparams,\n\u001b[1;32m    334\u001b[0m     timeout\u001b[38;5;241m=\u001b[39mtimeout,\n\u001b[1;32m    335\u001b[0m     url\u001b[38;5;241m=\u001b[39murl,\n\u001b[1;32m    336\u001b[0m )\n",
      "File \u001b[0;32m~/anaconda3/lib/python3.11/site-packages/prawcore/sessions.py:234\u001b[0m, in \u001b[0;36mSession._request_with_retries\u001b[0;34m(self, data, files, json, method, params, timeout, url, retry_strategy_state)\u001b[0m\n\u001b[1;32m    232\u001b[0m retry_strategy_state\u001b[38;5;241m.\u001b[39msleep()\n\u001b[1;32m    233\u001b[0m \u001b[38;5;28mself\u001b[39m\u001b[38;5;241m.\u001b[39m_log_request(data, method, params, url)\n\u001b[0;32m--> 234\u001b[0m response, saved_exception \u001b[38;5;241m=\u001b[39m \u001b[38;5;28mself\u001b[39m\u001b[38;5;241m.\u001b[39m_make_request(\n\u001b[1;32m    235\u001b[0m     data,\n\u001b[1;32m    236\u001b[0m     files,\n\u001b[1;32m    237\u001b[0m     json,\n\u001b[1;32m    238\u001b[0m     method,\n\u001b[1;32m    239\u001b[0m     params,\n\u001b[1;32m    240\u001b[0m     retry_strategy_state,\n\u001b[1;32m    241\u001b[0m     timeout,\n\u001b[1;32m    242\u001b[0m     url,\n\u001b[1;32m    243\u001b[0m )\n\u001b[1;32m    245\u001b[0m do_retry \u001b[38;5;241m=\u001b[39m \u001b[38;5;28;01mFalse\u001b[39;00m\n\u001b[1;32m    246\u001b[0m \u001b[38;5;28;01mif\u001b[39;00m response \u001b[38;5;129;01mis\u001b[39;00m \u001b[38;5;129;01mnot\u001b[39;00m \u001b[38;5;28;01mNone\u001b[39;00m \u001b[38;5;129;01mand\u001b[39;00m response\u001b[38;5;241m.\u001b[39mstatus_code \u001b[38;5;241m==\u001b[39m codes[\u001b[38;5;124m\"\u001b[39m\u001b[38;5;124munauthorized\u001b[39m\u001b[38;5;124m\"\u001b[39m]:\n",
      "File \u001b[0;32m~/anaconda3/lib/python3.11/site-packages/prawcore/sessions.py:186\u001b[0m, in \u001b[0;36mSession._make_request\u001b[0;34m(self, data, files, json, method, params, retry_strategy_state, timeout, url)\u001b[0m\n\u001b[1;32m    174\u001b[0m \u001b[38;5;28;01mdef\u001b[39;00m \u001b[38;5;21m_make_request\u001b[39m(\n\u001b[1;32m    175\u001b[0m     \u001b[38;5;28mself\u001b[39m,\n\u001b[1;32m    176\u001b[0m     data: \u001b[38;5;28mlist\u001b[39m[\u001b[38;5;28mtuple\u001b[39m[\u001b[38;5;28mstr\u001b[39m, Any]],\n\u001b[0;32m   (...)\u001b[0m\n\u001b[1;32m    183\u001b[0m     url: \u001b[38;5;28mstr\u001b[39m,\n\u001b[1;32m    184\u001b[0m ) \u001b[38;5;241m-\u001b[39m\u001b[38;5;241m>\u001b[39m \u001b[38;5;28mtuple\u001b[39m[Response, \u001b[38;5;28;01mNone\u001b[39;00m] \u001b[38;5;241m|\u001b[39m \u001b[38;5;28mtuple\u001b[39m[\u001b[38;5;28;01mNone\u001b[39;00m, \u001b[38;5;167;01mException\u001b[39;00m]:\n\u001b[1;32m    185\u001b[0m     \u001b[38;5;28;01mtry\u001b[39;00m:\n\u001b[0;32m--> 186\u001b[0m         response \u001b[38;5;241m=\u001b[39m \u001b[38;5;28mself\u001b[39m\u001b[38;5;241m.\u001b[39m_rate_limiter\u001b[38;5;241m.\u001b[39mcall(\n\u001b[1;32m    187\u001b[0m             \u001b[38;5;28mself\u001b[39m\u001b[38;5;241m.\u001b[39m_requestor\u001b[38;5;241m.\u001b[39mrequest,\n\u001b[1;32m    188\u001b[0m             \u001b[38;5;28mself\u001b[39m\u001b[38;5;241m.\u001b[39m_set_header_callback,\n\u001b[1;32m    189\u001b[0m             method,\n\u001b[1;32m    190\u001b[0m             url,\n\u001b[1;32m    191\u001b[0m             allow_redirects\u001b[38;5;241m=\u001b[39m\u001b[38;5;28;01mFalse\u001b[39;00m,\n\u001b[1;32m    192\u001b[0m             data\u001b[38;5;241m=\u001b[39mdata,\n\u001b[1;32m    193\u001b[0m             files\u001b[38;5;241m=\u001b[39mfiles,\n\u001b[1;32m    194\u001b[0m             json\u001b[38;5;241m=\u001b[39mjson,\n\u001b[1;32m    195\u001b[0m             params\u001b[38;5;241m=\u001b[39mparams,\n\u001b[1;32m    196\u001b[0m             timeout\u001b[38;5;241m=\u001b[39mtimeout,\n\u001b[1;32m    197\u001b[0m         )\n\u001b[1;32m    198\u001b[0m         log\u001b[38;5;241m.\u001b[39mdebug(\n\u001b[1;32m    199\u001b[0m             \u001b[38;5;124m\"\u001b[39m\u001b[38;5;124mResponse: \u001b[39m\u001b[38;5;132;01m%s\u001b[39;00m\u001b[38;5;124m (\u001b[39m\u001b[38;5;132;01m%s\u001b[39;00m\u001b[38;5;124m bytes) (rst-\u001b[39m\u001b[38;5;132;01m%s\u001b[39;00m\u001b[38;5;124m:rem-\u001b[39m\u001b[38;5;132;01m%s\u001b[39;00m\u001b[38;5;124m:used-\u001b[39m\u001b[38;5;132;01m%s\u001b[39;00m\u001b[38;5;124m ratelimit) at \u001b[39m\u001b[38;5;132;01m%s\u001b[39;00m\u001b[38;5;124m\"\u001b[39m,\n\u001b[1;32m    200\u001b[0m             response\u001b[38;5;241m.\u001b[39mstatus_code,\n\u001b[0;32m   (...)\u001b[0m\n\u001b[1;32m    205\u001b[0m             time\u001b[38;5;241m.\u001b[39mtime(),\n\u001b[1;32m    206\u001b[0m         )\n\u001b[1;32m    207\u001b[0m         \u001b[38;5;28;01mreturn\u001b[39;00m response, \u001b[38;5;28;01mNone\u001b[39;00m\n",
      "File \u001b[0;32m~/anaconda3/lib/python3.11/site-packages/prawcore/rate_limit.py:46\u001b[0m, in \u001b[0;36mRateLimiter.call\u001b[0;34m(self, request_function, set_header_callback, *args, **kwargs)\u001b[0m\n\u001b[1;32m     36\u001b[0m \u001b[38;5;250m\u001b[39m\u001b[38;5;124;03m\"\"\"Rate limit the call to ``request_function``.\u001b[39;00m\n\u001b[1;32m     37\u001b[0m \n\u001b[1;32m     38\u001b[0m \u001b[38;5;124;03m:param request_function: A function call that returns an HTTP response object.\u001b[39;00m\n\u001b[0;32m   (...)\u001b[0m\n\u001b[1;32m     43\u001b[0m \n\u001b[1;32m     44\u001b[0m \u001b[38;5;124;03m\"\"\"\u001b[39;00m\n\u001b[1;32m     45\u001b[0m \u001b[38;5;28mself\u001b[39m\u001b[38;5;241m.\u001b[39mdelay()\n\u001b[0;32m---> 46\u001b[0m kwargs[\u001b[38;5;124m\"\u001b[39m\u001b[38;5;124mheaders\u001b[39m\u001b[38;5;124m\"\u001b[39m] \u001b[38;5;241m=\u001b[39m set_header_callback()\n\u001b[1;32m     47\u001b[0m response \u001b[38;5;241m=\u001b[39m request_function(\u001b[38;5;241m*\u001b[39margs, \u001b[38;5;241m*\u001b[39m\u001b[38;5;241m*\u001b[39mkwargs)\n\u001b[1;32m     48\u001b[0m \u001b[38;5;28mself\u001b[39m\u001b[38;5;241m.\u001b[39mupdate(response\u001b[38;5;241m.\u001b[39mheaders)\n",
      "File \u001b[0;32m~/anaconda3/lib/python3.11/site-packages/prawcore/sessions.py:282\u001b[0m, in \u001b[0;36mSession._set_header_callback\u001b[0;34m(self)\u001b[0m\n\u001b[1;32m    280\u001b[0m \u001b[38;5;28;01mdef\u001b[39;00m \u001b[38;5;21m_set_header_callback\u001b[39m(\u001b[38;5;28mself\u001b[39m) \u001b[38;5;241m-\u001b[39m\u001b[38;5;241m>\u001b[39m \u001b[38;5;28mdict\u001b[39m[\u001b[38;5;28mstr\u001b[39m, \u001b[38;5;28mstr\u001b[39m]:\n\u001b[1;32m    281\u001b[0m     \u001b[38;5;28;01mif\u001b[39;00m \u001b[38;5;129;01mnot\u001b[39;00m \u001b[38;5;28mself\u001b[39m\u001b[38;5;241m.\u001b[39m_authorizer\u001b[38;5;241m.\u001b[39mis_valid() \u001b[38;5;129;01mand\u001b[39;00m \u001b[38;5;28mhasattr\u001b[39m(\u001b[38;5;28mself\u001b[39m\u001b[38;5;241m.\u001b[39m_authorizer, \u001b[38;5;124m\"\u001b[39m\u001b[38;5;124mrefresh\u001b[39m\u001b[38;5;124m\"\u001b[39m):\n\u001b[0;32m--> 282\u001b[0m         \u001b[38;5;28mself\u001b[39m\u001b[38;5;241m.\u001b[39m_authorizer\u001b[38;5;241m.\u001b[39mrefresh()\n\u001b[1;32m    283\u001b[0m     \u001b[38;5;28;01mreturn\u001b[39;00m {\u001b[38;5;124m\"\u001b[39m\u001b[38;5;124mAuthorization\u001b[39m\u001b[38;5;124m\"\u001b[39m: \u001b[38;5;124mf\u001b[39m\u001b[38;5;124m\"\u001b[39m\u001b[38;5;124mbearer \u001b[39m\u001b[38;5;132;01m{\u001b[39;00m\u001b[38;5;28mself\u001b[39m\u001b[38;5;241m.\u001b[39m_authorizer\u001b[38;5;241m.\u001b[39maccess_token\u001b[38;5;132;01m}\u001b[39;00m\u001b[38;5;124m\"\u001b[39m}\n",
      "File \u001b[0;32m~/anaconda3/lib/python3.11/site-packages/prawcore/auth.py:378\u001b[0m, in \u001b[0;36mReadOnlyAuthorizer.refresh\u001b[0;34m(self)\u001b[0m\n\u001b[1;32m    376\u001b[0m \u001b[38;5;28;01mif\u001b[39;00m \u001b[38;5;28mself\u001b[39m\u001b[38;5;241m.\u001b[39m_scopes:\n\u001b[1;32m    377\u001b[0m     additional_kwargs[\u001b[38;5;124m\"\u001b[39m\u001b[38;5;124mscope\u001b[39m\u001b[38;5;124m\"\u001b[39m] \u001b[38;5;241m=\u001b[39m \u001b[38;5;124m\"\u001b[39m\u001b[38;5;124m \u001b[39m\u001b[38;5;124m\"\u001b[39m\u001b[38;5;241m.\u001b[39mjoin(\u001b[38;5;28mself\u001b[39m\u001b[38;5;241m.\u001b[39m_scopes)\n\u001b[0;32m--> 378\u001b[0m \u001b[38;5;28mself\u001b[39m\u001b[38;5;241m.\u001b[39m_request_token(grant_type\u001b[38;5;241m=\u001b[39m\u001b[38;5;124m\"\u001b[39m\u001b[38;5;124mclient_credentials\u001b[39m\u001b[38;5;124m\"\u001b[39m, \u001b[38;5;241m*\u001b[39m\u001b[38;5;241m*\u001b[39madditional_kwargs)\n",
      "File \u001b[0;32m~/anaconda3/lib/python3.11/site-packages/prawcore/auth.py:155\u001b[0m, in \u001b[0;36mBaseAuthorizer._request_token\u001b[0;34m(self, **data)\u001b[0m\n\u001b[1;32m    153\u001b[0m url \u001b[38;5;241m=\u001b[39m \u001b[38;5;28mself\u001b[39m\u001b[38;5;241m.\u001b[39m_authenticator\u001b[38;5;241m.\u001b[39m_requestor\u001b[38;5;241m.\u001b[39mreddit_url \u001b[38;5;241m+\u001b[39m const\u001b[38;5;241m.\u001b[39mACCESS_TOKEN_PATH\n\u001b[1;32m    154\u001b[0m pre_request_time \u001b[38;5;241m=\u001b[39m time\u001b[38;5;241m.\u001b[39mtime()\n\u001b[0;32m--> 155\u001b[0m response \u001b[38;5;241m=\u001b[39m \u001b[38;5;28mself\u001b[39m\u001b[38;5;241m.\u001b[39m_authenticator\u001b[38;5;241m.\u001b[39m_post(url\u001b[38;5;241m=\u001b[39murl, \u001b[38;5;241m*\u001b[39m\u001b[38;5;241m*\u001b[39mdata)\n\u001b[1;32m    156\u001b[0m payload \u001b[38;5;241m=\u001b[39m response\u001b[38;5;241m.\u001b[39mjson()\n\u001b[1;32m    157\u001b[0m \u001b[38;5;28;01mif\u001b[39;00m \u001b[38;5;124m\"\u001b[39m\u001b[38;5;124merror\u001b[39m\u001b[38;5;124m\"\u001b[39m \u001b[38;5;129;01min\u001b[39;00m payload:  \u001b[38;5;66;03m# Why are these OKAY responses?\u001b[39;00m\n",
      "File \u001b[0;32m~/anaconda3/lib/python3.11/site-packages/prawcore/auth.py:59\u001b[0m, in \u001b[0;36mBaseAuthenticator._post\u001b[0;34m(self, url, success_status, **data)\u001b[0m\n\u001b[1;32m     51\u001b[0m response \u001b[38;5;241m=\u001b[39m \u001b[38;5;28mself\u001b[39m\u001b[38;5;241m.\u001b[39m_requestor\u001b[38;5;241m.\u001b[39mrequest(\n\u001b[1;32m     52\u001b[0m     \u001b[38;5;124m\"\u001b[39m\u001b[38;5;124mpost\u001b[39m\u001b[38;5;124m\"\u001b[39m,\n\u001b[1;32m     53\u001b[0m     url,\n\u001b[0;32m   (...)\u001b[0m\n\u001b[1;32m     56\u001b[0m     headers\u001b[38;5;241m=\u001b[39m{\u001b[38;5;124m\"\u001b[39m\u001b[38;5;124mConnection\u001b[39m\u001b[38;5;124m\"\u001b[39m: \u001b[38;5;124m\"\u001b[39m\u001b[38;5;124mclose\u001b[39m\u001b[38;5;124m\"\u001b[39m},\n\u001b[1;32m     57\u001b[0m )\n\u001b[1;32m     58\u001b[0m \u001b[38;5;28;01mif\u001b[39;00m response\u001b[38;5;241m.\u001b[39mstatus_code \u001b[38;5;241m!=\u001b[39m success_status:\n\u001b[0;32m---> 59\u001b[0m     \u001b[38;5;28;01mraise\u001b[39;00m ResponseException(response)\n\u001b[1;32m     60\u001b[0m \u001b[38;5;28;01mreturn\u001b[39;00m response\n",
      "\u001b[0;31mResponseException\u001b[0m: received 401 HTTP response"
     ]
    }
   ],
   "source": [
    "# RQ1\n",
    "gpt_study_how_query = ('gpt study techniques OR ' +\n",
    "                        'gpt study methods OR ' +\n",
    "                        'gpt study applications OR ' +\n",
    "                        'student gpt utilization OR ')\n",
    "\n",
    "num_posts = 1\n",
    "submission_details_1, all_comments_1 = scrape_reddit_with_query(gpt_study_how_query, num_posts)\n"
   ]
  },
  {
   "cell_type": "code",
   "execution_count": null,
   "id": "8bc3d691-34ed-4536-8a29-2b45ec0d11ed",
   "metadata": {},
   "outputs": [],
   "source": []
  },
  {
   "cell_type": "code",
   "execution_count": null,
   "id": "93f3f1a7-dc37-4ad4-9f7b-4e7c0e88d52a",
   "metadata": {},
   "outputs": [],
   "source": []
  },
  {
   "cell_type": "code",
   "execution_count": null,
   "id": "11b712ff-c871-4aea-b52b-a42526d23958",
   "metadata": {},
   "outputs": [],
   "source": []
  },
  {
   "cell_type": "code",
   "execution_count": 16,
   "id": "fe24f7cb-754a-4060-9121-9b19156403cd",
   "metadata": {},
   "outputs": [
    {
     "ename": "NameError",
     "evalue": "name 'comments' is not defined",
     "output_type": "error",
     "traceback": [
      "\u001b[0;31m---------------------------------------------------------------------------\u001b[0m",
      "\u001b[0;31mNameError\u001b[0m                                 Traceback (most recent call last)",
      "Cell \u001b[0;32mIn[16], line 2\u001b[0m\n\u001b[1;32m      1\u001b[0m \u001b[38;5;66;03m# Print the scraped comments\u001b[39;00m\n\u001b[0;32m----> 2\u001b[0m \u001b[38;5;28;01mfor\u001b[39;00m comment \u001b[38;5;129;01min\u001b[39;00m comments:\n\u001b[1;32m      3\u001b[0m     \u001b[38;5;28mprint\u001b[39m(comment)\n",
      "\u001b[0;31mNameError\u001b[0m: name 'comments' is not defined"
     ]
    }
   ],
   "source": [
    "# Print the scraped comments\n",
    "for comment in comments:\n",
    "    print(comment)"
   ]
  }
 ],
 "metadata": {
  "kernelspec": {
   "display_name": "Python 3 (ipykernel)",
   "language": "python",
   "name": "python3"
  },
  "language_info": {
   "codemirror_mode": {
    "name": "ipython",
    "version": 3
   },
   "file_extension": ".py",
   "mimetype": "text/x-python",
   "name": "python",
   "nbconvert_exporter": "python",
   "pygments_lexer": "ipython3",
   "version": "3.11.5"
  }
 },
 "nbformat": 4,
 "nbformat_minor": 5
}
