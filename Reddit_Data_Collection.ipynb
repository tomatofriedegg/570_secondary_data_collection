{
 "cells": [
  {
   "cell_type": "code",
   "execution_count": 2,
   "id": "6d87314d-dd11-4922-ada4-01541bfc8c67",
   "metadata": {
    "tags": []
   },
   "outputs": [],
   "source": [
    "import praw\n",
    "import pandas as pd"
   ]
  },
  {
   "cell_type": "code",
   "execution_count": null,
   "id": "a97d2f9a-27b4-49b6-8e4f-210bc70c7c50",
   "metadata": {},
   "outputs": [],
   "source": [
    "# Initialize Reddit API\n",
    "reddit_api = praw.Reddit(client_id='YOUR_CLIENT_ID',\n",
    "                     client_secret='YOUR_CLIENT_SECRET',\n",
    "                     user_agent='YOUR_USER_AGENT')"
   ]
  },
  {
   "cell_type": "code",
   "execution_count": null,
   "id": "eb0f003a-727c-4626-8485-d9588db662fe",
   "metadata": {},
   "outputs": [],
   "source": [
    "def scrape_submissions_with_query(query, num_submissions=10):\n",
    "    reddit = reddit_api\n",
    "    submission_ids = []\n",
    "    submissions = reddit.subreddit('all').search(query, limit=num_submissions)\n",
    "\n",
    "    for submission in submissions:\n",
    "        submission_ids.append(submission.id)\n",
    "    \n",
    "    return submission_ids"
   ]
  },
  {
   "cell_type": "code",
   "execution_count": null,
   "id": "8aa86bf3-0ca8-49cc-86b7-a6025484c036",
   "metadata": {},
   "outputs": [],
   "source": [
    "def capture_submission_details(submission_ids):\n",
    "    reddit = reddit_api\n",
    "    submission_details = []\n",
    "    \n",
    "    try:\n",
    "        for submission_id in submission_ids:\n",
    "            submission = reddit.submission(id=submission_id)\n",
    "            submission_info = {\n",
    "                'Submission id': submission.id,\n",
    "                'Submission title': submission.title,\n",
    "                'Submission content': submission.selftext,\n",
    "                'Submission author': submission.author.name if submission.author else '[deleted]',\n",
    "                'Submission created_date': submission.created_utc,\n",
    "                'Submission upvotes': submission.score,\n",
    "                'Submission url': submission.url\n",
    "            }\n",
    "            submission_details.append(submission_info)\n",
    "    except Exception as e:\n",
    "        print(f\"Error occurred while scraping submissions for query '{query}': {e}\")\n",
    "\n",
    "    return submission_details"
   ]
  },
  {
   "cell_type": "code",
   "execution_count": null,
   "id": "7829d658-38f2-45a4-926f-7138796aad60",
   "metadata": {},
   "outputs": [],
   "source": [
    "def scrape_comments_for_submission(submission_ids):\n",
    "    reddit = reddit_api\n",
    "    all_comments = []\n",
    "\n",
    "    for submission_id in submission_ids:\n",
    "        try:\n",
    "            submission = reddit.submission(id=submission_id)\n",
    "            submission.comments.replace_more(limit=None)\n",
    "            comments = submission.comments.list()\n",
    "\n",
    "            for comment in comments:\n",
    "                comment_info = {\n",
    "                    'submission_id': submission_id,\n",
    "                    'comment_id': comment.id,\n",
    "                    'author': comment.author.name if comment.author else '[deleted]',\n",
    "                    'created_date': comment.created_utc,\n",
    "                    'body': comment.body,\n",
    "                    'upvotes': comment.score\n",
    "                }\n",
    "                all_comments.append(comment_info)\n",
    "        except Exception as e:\n",
    "            print(f\"Error occurred while scraping comments for submission {submission_id}: {e}\")\n",
    "            continue  # Skip this submission and move to the next one\n",
    "\n",
    "    return all_comments"
   ]
  },
  {
   "cell_type": "code",
   "execution_count": null,
   "id": "fe24f7cb-754a-4060-9121-9b19156403cd",
   "metadata": {},
   "outputs": [],
   "source": [
    "# Print the scraped comments\n",
    "for comment in comments:\n",
    "    print(comment)"
   ]
  }
 ],
 "metadata": {
  "kernelspec": {
   "display_name": "Python 3 (ipykernel)",
   "language": "python",
   "name": "python3"
  },
  "language_info": {
   "codemirror_mode": {
    "name": "ipython",
    "version": 3
   },
   "file_extension": ".py",
   "mimetype": "text/x-python",
   "name": "python",
   "nbconvert_exporter": "python",
   "pygments_lexer": "ipython3",
   "version": "3.11.5"
  }
 },
 "nbformat": 4,
 "nbformat_minor": 5
}
