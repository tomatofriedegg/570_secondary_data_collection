{
 "cells": [
  {
   "cell_type": "markdown",
   "id": "54b228fd-7d65-490b-9580-619876960f7c",
   "metadata": {},
   "source": [
    "# IMT 570 X/Twitter Data Collection"
   ]
  },
  {
   "cell_type": "markdown",
   "id": "287a413a-f734-4e2d-b401-26b3065d961f",
   "metadata": {},
   "source": [
    "### Section 1: Configuration / Authentication"
   ]
  },
  {
   "cell_type": "code",
   "execution_count": 6,
   "id": "3d9c9505-51c5-4b9a-8ce3-d4e4c91c4032",
   "metadata": {
    "tags": []
   },
   "outputs": [],
   "source": [
    "!pip install tweepy --quiet"
   ]
  },
  {
   "cell_type": "code",
   "execution_count": 15,
   "id": "15da696d-cf38-4a89-bf01-a9c7b498f336",
   "metadata": {},
   "outputs": [],
   "source": [
    "import tweepy\n",
    "import pandas as pd"
   ]
  },
  {
   "cell_type": "code",
   "execution_count": null,
   "id": "9301fcad-eed0-4b36-9374-fb0cb30f7be1",
   "metadata": {},
   "outputs": [],
   "source": [
    "# Twitter API credentials\n",
    "consumer_key = 'YOUR_CONSUMER_KEY'\n",
    "consumer_secret = 'YOUR_CONSUMER_SECRET'\n",
    "access_token = 'YOUR_ACCESS_TOKEN'\n",
    "access_token_secret = 'YOUR_ACCESS_TOKEN_SECRET'"
   ]
  },
  {
   "cell_type": "code",
   "execution_count": null,
   "id": "3fb3e820-682f-4bfb-b935-ecf05cfa3a36",
   "metadata": {},
   "outputs": [],
   "source": [
    "# Authenticate to Twitter\n",
    "auth = tweepy.OAuth1UserHandler(consumer_key, consumer_secret, access_token, access_token_secret)\n",
    "\n",
    "# Create API object\n",
    "api = tweepy.API(auth)"
   ]
  },
  {
   "cell_type": "markdown",
   "id": "6978f045-f46a-4c01-b6cb-695e5541715c",
   "metadata": {},
   "source": [
    "### Section 2: Search Tweets and Comments functions"
   ]
  },
  {
   "cell_type": "code",
   "execution_count": null,
   "id": "bcf64a7e-33bd-43b5-9fa2-ef3989b7a2dc",
   "metadata": {},
   "outputs": [],
   "source": [
    "def search_tweets(query, num_tweets=100):\n",
    "    tweets = []\n",
    "    for tweet in tweepy.Cursor(api.search_tweets, q=query, tweet_mode='extended').items(num_tweets):\n",
    "        tweet_info = {\n",
    "            'Tweet ID': tweet.id_str,\n",
    "            'User ID': tweet.user.id_str,\n",
    "            'Username': tweet.user.screen_name,\n",
    "            'Created at': tweet.created_at,\n",
    "            'Text': tweet.full_text,\n",
    "            'Retweet count': tweet.retweet_count,\n",
    "            'Favorite count': tweet.favorite_count\n",
    "            # Add more fields as needed\n",
    "        }\n",
    "        tweets.append(tweet_info)\n",
    "    return tweets"
   ]
  },
  {
   "cell_type": "code",
   "execution_count": null,
   "id": "4ce67512-d96b-425d-a56b-db614a2b2e60",
   "metadata": {},
   "outputs": [],
   "source": [
    "def get_tweet_comments(tweet_id, num_comments=100):\n",
    "    comments = []\n",
    "    for tweet in tweepy.Cursor(api.search_tweets, q=f'to:{tweet_id}', tweet_mode='extended').items(num_comments):\n",
    "        comment_info = {\n",
    "            'Comment ID': tweet.id_str,\n",
    "            'User ID': tweet.user.id_str,\n",
    "            'Username': tweet.user.screen_name,\n",
    "            'Created at': tweet.created_at,\n",
    "            'Text': tweet.full_text,\n",
    "            'Retweet count': tweet.retweet_count,\n",
    "            'Favorite count': tweet.favorite_count\n",
    "            # Add more fields as needed\n",
    "        }\n",
    "        comments.append(comment_info)\n",
    "    return comments"
   ]
  },
  {
   "cell_type": "markdown",
   "id": "c75fcacd-91fa-40c6-aa5a-ab6d969ce72c",
   "metadata": {},
   "source": [
    "### Section 3: Queries"
   ]
  },
  {
   "cell_type": "code",
   "execution_count": 23,
   "id": "c74cb2bb-42f5-4317-8fe8-b6a0241e8fe7",
   "metadata": {
    "tags": []
   },
   "outputs": [],
   "source": [
    "# How do students use GPT in study\n",
    "gpt_study_how = 'gpt study techniques OR ' + \\\n",
    "                 'gpt study methods OR ' + \\\n",
    "                 'gpt study applications OR ' + \\\n",
    "                 'student gpt utilization OR ' + \\\n",
    "                 'gpt study strategies OR ' + \\\n",
    "                 'gpt study practices OR ' + \\\n",
    "                 'gpt study approaches OR ' + \\\n",
    "                 'gpt study tools OR ' + \\\n",
    "                 'gpt study resources OR ' + \\\n",
    "                 'gpt study aids OR ' + \\\n",
    "                 'gpt study assistance OR ' + \\\n",
    "                 'gpt study support OR ' + \\\n",
    "                 'gpt study applications OR ' + \\\n",
    "                 'gpt study integration OR ' + \\\n",
    "                 'gpt study incorporation OR ' + \\\n",
    "                 'gpt study utilization OR ' + \\\n",
    "                 'gpt study implementation OR ' + \\\n",
    "                 'gpt study techniques OR ' + \\\n",
    "                 'gpt study practices OR ' + \\\n",
    "                 'gpt study habits OR ' + \\\n",
    "                 'gpt study routines'"
   ]
  },
  {
   "cell_type": "code",
   "execution_count": 25,
   "id": "5ede17e4-a21d-41e5-862f-7187e77a8b68",
   "metadata": {
    "tags": []
   },
   "outputs": [],
   "source": [
    "# GPT's effect on learning outcome\n",
    "gpt_learning_impact = 'gpt learning impact OR ' + \\\n",
    "                       'gpt learning influence OR ' + \\\n",
    "                       'gpt learning consequences OR ' + \\\n",
    "                       'gpt learning results OR ' + \\\n",
    "                       'gpt learning effects OR ' + \\\n",
    "                       'gpt learning outcomes OR ' + \\\n",
    "                       'gpt learning benefits OR ' + \\\n",
    "                       'gpt learning advantages OR ' + \\\n",
    "                       'gpt learning improvements OR ' + \\\n",
    "                       'gpt learning enhancements OR ' + \\\n",
    "                       'gpt learning gains OR ' + \\\n",
    "                       'gpt learning progress OR ' + \\\n",
    "                       'gpt learning development OR ' + \\\n",
    "                       'gpt learning advancement OR ' + \\\n",
    "                       'gpt learning efficacy OR ' + \\\n",
    "                       'gpt learning efficiency OR ' + \\\n",
    "                       'gpt learning effectiveness OR ' + \\\n",
    "                       'gpt learning performance OR ' + \\\n",
    "                       'gpt learning success OR ' + \\\n",
    "                       'gpt learning achievement OR ' + \\\n",
    "                       'gpt learning proficiency OR ' + \\\n",
    "                       'gpt learning mastery'"
   ]
  },
  {
   "cell_type": "code",
   "execution_count": 27,
   "id": "0e082963-d3f7-4775-bcaa-4ac330d82720",
   "metadata": {
    "tags": []
   },
   "outputs": [],
   "source": [
    "# Subject differences in using GPT for study\n",
    "gpt_subject_difference = 'gpt stem education OR ' + \\\n",
    "                          'gpt stem subjects OR ' + \\\n",
    "                          'gpt stem learning OR ' + \\\n",
    "                          'gpt stem applications OR ' + \\\n",
    "                          'gpt stem impact OR ' + \\\n",
    "                          'gpt stem effectiveness OR ' + \\\n",
    "                          'gpt stem outcomes OR ' + \\\n",
    "                          'gpt stem benefits OR ' + \\\n",
    "                          'gpt stem advantages OR ' + \\\n",
    "                          'gpt stem performance OR ' + \\\n",
    "                          'gpt stem achievement OR ' + \\\n",
    "                          'gpt stem progress OR ' + \\\n",
    "                          'gpt stem development OR ' + \\\n",
    "                          'gpt stem efficacy OR ' + \\\n",
    "                          'gpt stem efficiency OR ' + \\\n",
    "                          'gpt stem success OR ' + \\\n",
    "                          'gpt non-stem education OR ' + \\\n",
    "                          'gpt non-stem subjects OR ' + \\\n",
    "                          'gpt non-stem learning OR ' + \\\n",
    "                          'gpt non-stem applications OR ' + \\\n",
    "                          'gpt non-stem impact OR ' + \\\n",
    "                          'gpt non-stem effectiveness OR ' + \\\n",
    "                          'gpt non-stem outcomes'\n"
   ]
  },
  {
   "cell_type": "markdown",
   "id": "ec8364ac-ef3b-4ba4-abda-5893af709e8e",
   "metadata": {},
   "source": [
    "### Section 4: Making calls"
   ]
  },
  {
   "cell_type": "code",
   "execution_count": null,
   "id": "8394eeb0-18c9-4279-8faa-341c0987022c",
   "metadata": {},
   "outputs": [],
   "source": [
    "# Example usage\n",
    "query = 'Your search query here'\n",
    "num_tweets = 100\n",
    "tweets = search_tweets(query, num_tweets)\n",
    "print(f\"Found {len(tweets)} tweets matching the query.\")"
   ]
  },
  {
   "cell_type": "code",
   "execution_count": null,
   "id": "1ad552c6-8048-49d6-8d0a-0ecf2e5eab80",
   "metadata": {},
   "outputs": [],
   "source": [
    "# Example usage\n",
    "tweet_id = 'YOUR_TWEET_ID_HERE'\n",
    "num_comments = 100\n",
    "comments = get_tweet_comments(tweet_id, num_comments)\n",
    "print(f\"Found {len(comments)} comments for tweet with ID {tweet_id}.\")"
   ]
  },
  {
   "cell_type": "code",
   "execution_count": null,
   "id": "1c7d6b97-80fe-4a9e-8db1-bf9acca7de08",
   "metadata": {},
   "outputs": [],
   "source": []
  },
  {
   "cell_type": "code",
   "execution_count": null,
   "id": "82ed09a1-b7f9-4dfa-a2f9-39d542507a0b",
   "metadata": {},
   "outputs": [],
   "source": []
  },
  {
   "cell_type": "code",
   "execution_count": null,
   "id": "fd020272-a405-4bb3-9315-768995b992ac",
   "metadata": {},
   "outputs": [],
   "source": []
  },
  {
   "cell_type": "code",
   "execution_count": null,
   "id": "52bbba7a-6eee-400c-87aa-de787e7657e0",
   "metadata": {},
   "outputs": [],
   "source": []
  }
 ],
 "metadata": {
  "kernelspec": {
   "display_name": "Python 3 (ipykernel)",
   "language": "python",
   "name": "python3"
  },
  "language_info": {
   "codemirror_mode": {
    "name": "ipython",
    "version": 3
   },
   "file_extension": ".py",
   "mimetype": "text/x-python",
   "name": "python",
   "nbconvert_exporter": "python",
   "pygments_lexer": "ipython3",
   "version": "3.11.5"
  }
 },
 "nbformat": 4,
 "nbformat_minor": 5
}
